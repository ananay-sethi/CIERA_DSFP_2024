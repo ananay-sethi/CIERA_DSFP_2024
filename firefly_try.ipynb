{
 "cells": [
  {
   "cell_type": "markdown",
   "metadata": {},
   "source": [
    "# Trying Firefly for one of the Gaia data releases"
   ]
  },
  {
   "cell_type": "code",
   "execution_count": 3,
   "metadata": {},
   "outputs": [],
   "source": [
    "import numpy as np\n",
    "\n",
    "import hdbscan\n",
    "\n",
    "from astroquery.gaia import Gaia\n",
    "\n",
    "from astropy import units as u\n",
    "from astropy.coordinates import SkyCoord, Distance\n",
    "from astropy.table import Table\n",
    "\n",
    "import matplotlib.pyplot as plt\n",
    "import matplotlib.colors as mcolors\n",
    "%matplotlib inline"
   ]
  },
  {
   "cell_type": "code",
   "execution_count": 2,
   "metadata": {},
   "outputs": [
    {
     "name": "stdout",
     "output_type": "stream",
     "text": [
      "Collecting hdbscan\n",
      "  Downloading hdbscan-0.8.39.tar.gz (5.8 MB)\n",
      "\u001b[2K     \u001b[90m━━━━━━━━━━━━━━━━━━━━━━━━━━━━━━━━━━━━━━━━\u001b[0m \u001b[32m5.8/5.8 MB\u001b[0m \u001b[31m735.7 kB/s\u001b[0m eta \u001b[36m0:00:00\u001b[0m00:01\u001b[0m00:01\u001b[0m\n",
      "\u001b[?25h  Installing build dependencies ... \u001b[?25ldone\n",
      "\u001b[?25h  Getting requirements to build wheel ... \u001b[?25ldone\n",
      "\u001b[?25h  Preparing metadata (pyproject.toml) ... \u001b[?25ldone\n",
      "\u001b[?25hRequirement already satisfied: scipy>=1.0 in /opt/anaconda3/lib/python3.9/site-packages (from hdbscan) (1.10.1)\n",
      "Requirement already satisfied: numpy<3,>=1.20 in /opt/anaconda3/lib/python3.9/site-packages (from hdbscan) (1.26.4)\n",
      "Requirement already satisfied: joblib>=1.0 in /opt/anaconda3/lib/python3.9/site-packages (from hdbscan) (1.1.1)\n",
      "Requirement already satisfied: scikit-learn>=0.20 in /opt/anaconda3/lib/python3.9/site-packages (from hdbscan) (1.2.2)\n",
      "Requirement already satisfied: threadpoolctl>=2.0.0 in /opt/anaconda3/lib/python3.9/site-packages (from scikit-learn>=0.20->hdbscan) (2.2.0)\n",
      "Building wheels for collected packages: hdbscan\n",
      "  Building wheel for hdbscan (pyproject.toml) ... \u001b[?25ldone\n",
      "\u001b[?25h  Created wheel for hdbscan: filename=hdbscan-0.8.39-cp39-cp39-macosx_10_9_x86_64.whl size=749610 sha256=20edfe917f0e8ed4f35eb9c61a8955b01ef57121f65dfeafa3508547b79c9f86\n",
      "  Stored in directory: /Users/ananaysethi/Library/Caches/pip/wheels/f6/e0/9e/a1d4bd27104f112845e27e9d5b86e2aba70765592c363bbbc6\n",
      "Successfully built hdbscan\n",
      "Installing collected packages: hdbscan\n",
      "Successfully installed hdbscan-0.8.39\n",
      "Note: you may need to restart the kernel to use updated packages.\n"
     ]
    }
   ],
   "source": [
    "%pip install hdbscan"
   ]
  },
  {
   "cell_type": "markdown",
   "metadata": {},
   "source": [
    "### Importing the data from Gaia DR3\n",
    "\n",
    "Looking for the W51-North Radio Source in the Gaia data release"
   ]
  },
  {
   "cell_type": "code",
   "execution_count": 5,
   "metadata": {},
   "outputs": [
    {
     "name": "stdout",
     "output_type": "stream",
     "text": [
      "Jobid: 1729613428146O\n",
      "Phase: COMPLETED\n",
      "Owner: None\n",
      "Output file: 1729613428146O-result.vot\n",
      "Results: None\n"
     ]
    }
   ],
   "source": [
    "cmd = \"SELECT * FROM gaiadr3.gaia_source \\\n",
    "    WHERE CONTAINS(POINT('ICRS',gaiadr3.gaia_source.ra, gaiadr3.gaia_source.dec),\\\n",
    "    CIRCLE('ICRS', 19.3955000, 14.5102778, 1))=1\\\n",
    "    AND parallax>0 \\\n",
    "    AND abs(pmra_error)<5 \\\n",
    "    AND abs(pmdec_error)<5 \\\n",
    "    AND pmra IS NOT NULL AND abs(pmra)>0 \\\n",
    "    AND pmdec IS NOT NULL AND abs(pmdec)>0;\"\n",
    "\n",
    "job = Gaia.launch_job_async(cmd, dump_to_file=True, output_format='votable') #could save this to a file\n",
    "\n",
    "print (job)"
   ]
  },
  {
   "cell_type": "code",
   "execution_count": 6,
   "metadata": {},
   "outputs": [],
   "source": [
    "tab = job.get_results()\n",
    "tab.write('Gaia_w51-north.ecsv', overwrite=True)"
   ]
  },
  {
   "cell_type": "code",
   "execution_count": 9,
   "metadata": {},
   "outputs": [],
   "source": [
    "# to read the data back in\n",
    "tab = Table.read('Gaia_w51-north.ecsv')"
   ]
  },
  {
   "cell_type": "code",
   "execution_count": 25,
   "metadata": {},
   "outputs": [
    {
     "data": {
      "text/latex": [
       "$[1633.4987,~1923.0945,~438.44429,~\\dots,~668.00614,~126.01604,~3321.7259] \\; \\mathrm{pc}$"
      ],
      "text/plain": [
       "<Quantity [1633.49868482, 1923.09452654,  438.44428802, ...,  668.00614415,\n",
       "            126.01603616, 3321.72594021] pc>"
      ]
     },
     "execution_count": 25,
     "metadata": {},
     "output_type": "execute_result"
    }
   ],
   "source": [
    "# ok, converting the parallax column to pc\n",
    "\n",
    "dist = 1/(tab['parallax']/1000) # d (pc) = 1/theta(arcsec)\n",
    "dist = dist * u.pc / u.mas\n",
    "dist"
   ]
  },
  {
   "cell_type": "code",
   "execution_count": 26,
   "metadata": {},
   "outputs": [
    {
     "data": {
      "text/plain": [
       "<CartesianRepresentation (x, y, z) in pc\n",
       "    [(1490.80203666,  540.61982457, 391.86406578),\n",
       "     (1764.31107408,  619.31603965, 449.38472925),\n",
       "     ( 402.21746761,  141.24402169, 102.49209132), ...,\n",
       "     ( 607.30957172,  213.31435373, 178.61769011),\n",
       "     ( 114.56460453,   40.25078683,  33.68778588),\n",
       "     (3018.51612531, 1064.69179468, 888.17509841)]>"
      ]
     },
     "execution_count": 26,
     "metadata": {},
     "output_type": "execute_result"
    }
   ],
   "source": [
    "\n",
    "coords_3d = SkyCoord(\n",
    "    ra=tab['ra'], \n",
    "    dec=tab['dec'],\n",
    "    distance=Distance(parallax=dist)\n",
    ")\n",
    "coords_3d.cartesian"
   ]
  },
  {
   "cell_type": "code",
   "execution_count": 15,
   "metadata": {},
   "outputs": [],
   "source": [
    "coords_3d_center = SkyCoord(\n",
    "    ra=19.3955000*u.deg, \n",
    "    dec=14.5102778*u.deg,\n",
    "    distance=5500*u.parsec\n",
    ")"
   ]
  },
  {
   "cell_type": "code",
   "execution_count": 27,
   "metadata": {},
   "outputs": [
    {
     "data": {
      "text/plain": [
       "['solution_id',\n",
       " 'DESIGNATION',\n",
       " 'SOURCE_ID',\n",
       " 'random_index',\n",
       " 'ref_epoch',\n",
       " 'ra',\n",
       " 'ra_error',\n",
       " 'dec',\n",
       " 'dec_error',\n",
       " 'parallax',\n",
       " 'parallax_error',\n",
       " 'parallax_over_error',\n",
       " 'pm',\n",
       " 'pmra',\n",
       " 'pmra_error',\n",
       " 'pmdec',\n",
       " 'pmdec_error',\n",
       " 'ra_dec_corr',\n",
       " 'ra_parallax_corr',\n",
       " 'ra_pmra_corr',\n",
       " 'ra_pmdec_corr',\n",
       " 'dec_parallax_corr',\n",
       " 'dec_pmra_corr',\n",
       " 'dec_pmdec_corr',\n",
       " 'parallax_pmra_corr',\n",
       " 'parallax_pmdec_corr',\n",
       " 'pmra_pmdec_corr',\n",
       " 'astrometric_n_obs_al',\n",
       " 'astrometric_n_obs_ac',\n",
       " 'astrometric_n_good_obs_al',\n",
       " 'astrometric_n_bad_obs_al',\n",
       " 'astrometric_gof_al',\n",
       " 'astrometric_chi2_al',\n",
       " 'astrometric_excess_noise',\n",
       " 'astrometric_excess_noise_sig',\n",
       " 'astrometric_params_solved',\n",
       " 'astrometric_primary_flag',\n",
       " 'nu_eff_used_in_astrometry',\n",
       " 'pseudocolour',\n",
       " 'pseudocolour_error',\n",
       " 'ra_pseudocolour_corr',\n",
       " 'dec_pseudocolour_corr',\n",
       " 'parallax_pseudocolour_corr',\n",
       " 'pmra_pseudocolour_corr',\n",
       " 'pmdec_pseudocolour_corr',\n",
       " 'astrometric_matched_transits',\n",
       " 'visibility_periods_used',\n",
       " 'astrometric_sigma5d_max',\n",
       " 'matched_transits',\n",
       " 'new_matched_transits',\n",
       " 'matched_transits_removed',\n",
       " 'ipd_gof_harmonic_amplitude',\n",
       " 'ipd_gof_harmonic_phase',\n",
       " 'ipd_frac_multi_peak',\n",
       " 'ipd_frac_odd_win',\n",
       " 'ruwe',\n",
       " 'scan_direction_strength_k1',\n",
       " 'scan_direction_strength_k2',\n",
       " 'scan_direction_strength_k3',\n",
       " 'scan_direction_strength_k4',\n",
       " 'scan_direction_mean_k1',\n",
       " 'scan_direction_mean_k2',\n",
       " 'scan_direction_mean_k3',\n",
       " 'scan_direction_mean_k4',\n",
       " 'duplicated_source',\n",
       " 'phot_g_n_obs',\n",
       " 'phot_g_mean_flux',\n",
       " 'phot_g_mean_flux_error',\n",
       " 'phot_g_mean_flux_over_error',\n",
       " 'phot_g_mean_mag',\n",
       " 'phot_bp_n_obs',\n",
       " 'phot_bp_mean_flux',\n",
       " 'phot_bp_mean_flux_error',\n",
       " 'phot_bp_mean_flux_over_error',\n",
       " 'phot_bp_mean_mag',\n",
       " 'phot_rp_n_obs',\n",
       " 'phot_rp_mean_flux',\n",
       " 'phot_rp_mean_flux_error',\n",
       " 'phot_rp_mean_flux_over_error',\n",
       " 'phot_rp_mean_mag',\n",
       " 'phot_bp_rp_excess_factor',\n",
       " 'phot_bp_n_contaminated_transits',\n",
       " 'phot_bp_n_blended_transits',\n",
       " 'phot_rp_n_contaminated_transits',\n",
       " 'phot_rp_n_blended_transits',\n",
       " 'phot_proc_mode',\n",
       " 'bp_rp',\n",
       " 'bp_g',\n",
       " 'g_rp',\n",
       " 'radial_velocity',\n",
       " 'radial_velocity_error',\n",
       " 'rv_method_used',\n",
       " 'rv_nb_transits',\n",
       " 'rv_nb_deblended_transits',\n",
       " 'rv_visibility_periods_used',\n",
       " 'rv_expected_sig_to_noise',\n",
       " 'rv_renormalised_gof',\n",
       " 'rv_chisq_pvalue',\n",
       " 'rv_time_duration',\n",
       " 'rv_amplitude_robust',\n",
       " 'rv_template_teff',\n",
       " 'rv_template_logg',\n",
       " 'rv_template_fe_h',\n",
       " 'rv_atm_param_origin',\n",
       " 'vbroad',\n",
       " 'vbroad_error',\n",
       " 'vbroad_nb_transits',\n",
       " 'grvs_mag',\n",
       " 'grvs_mag_error',\n",
       " 'grvs_mag_nb_transits',\n",
       " 'rvs_spec_sig_to_noise',\n",
       " 'phot_variable_flag',\n",
       " 'l',\n",
       " 'b',\n",
       " 'ecl_lon',\n",
       " 'ecl_lat',\n",
       " 'in_qso_candidates',\n",
       " 'in_galaxy_candidates',\n",
       " 'non_single_star',\n",
       " 'has_xp_continuous',\n",
       " 'has_xp_sampled',\n",
       " 'has_rvs',\n",
       " 'has_epoch_photometry',\n",
       " 'has_epoch_rv',\n",
       " 'has_mcmc_gspphot',\n",
       " 'has_mcmc_msc',\n",
       " 'in_andromeda_survey',\n",
       " 'classprob_dsc_combmod_quasar',\n",
       " 'classprob_dsc_combmod_galaxy',\n",
       " 'classprob_dsc_combmod_star',\n",
       " 'teff_gspphot',\n",
       " 'teff_gspphot_lower',\n",
       " 'teff_gspphot_upper',\n",
       " 'logg_gspphot',\n",
       " 'logg_gspphot_lower',\n",
       " 'logg_gspphot_upper',\n",
       " 'mh_gspphot',\n",
       " 'mh_gspphot_lower',\n",
       " 'mh_gspphot_upper',\n",
       " 'distance_gspphot',\n",
       " 'distance_gspphot_lower',\n",
       " 'distance_gspphot_upper',\n",
       " 'azero_gspphot',\n",
       " 'azero_gspphot_lower',\n",
       " 'azero_gspphot_upper',\n",
       " 'ag_gspphot',\n",
       " 'ag_gspphot_lower',\n",
       " 'ag_gspphot_upper',\n",
       " 'ebpminrp_gspphot',\n",
       " 'ebpminrp_gspphot_lower',\n",
       " 'ebpminrp_gspphot_upper',\n",
       " 'libname_gspphot']"
      ]
     },
     "execution_count": 27,
     "metadata": {},
     "output_type": "execute_result"
    }
   ],
   "source": [
    "# look at all the column names\n",
    "list(tab.columns)"
   ]
  },
  {
   "cell_type": "code",
   "execution_count": 33,
   "metadata": {},
   "outputs": [
    {
     "data": {
      "text/html": [
       "<div>\n",
       "<style scoped>\n",
       "    .dataframe tbody tr th:only-of-type {\n",
       "        vertical-align: middle;\n",
       "    }\n",
       "\n",
       "    .dataframe tbody tr th {\n",
       "        vertical-align: top;\n",
       "    }\n",
       "\n",
       "    .dataframe thead th {\n",
       "        text-align: right;\n",
       "    }\n",
       "</style>\n",
       "<table border=\"1\" class=\"dataframe\">\n",
       "  <thead>\n",
       "    <tr style=\"text-align: right;\">\n",
       "      <th></th>\n",
       "      <th>SOURCE_ID</th>\n",
       "      <th>ra</th>\n",
       "      <th>dec</th>\n",
       "      <th>parallax</th>\n",
       "      <th>pmra</th>\n",
       "      <th>pmdec</th>\n",
       "      <th>radial_velocity</th>\n",
       "      <th>phot_g_mean_mag</th>\n",
       "      <th>bp_rp</th>\n",
       "      <th>ruwe</th>\n",
       "      <th>teff_gspphot</th>\n",
       "      <th>x</th>\n",
       "      <th>y</th>\n",
       "      <th>z</th>\n",
       "    </tr>\n",
       "  </thead>\n",
       "  <tbody>\n",
       "    <tr>\n",
       "      <th>0</th>\n",
       "      <td>2590048691771704704</td>\n",
       "      <td>19.932513</td>\n",
       "      <td>13.880195</td>\n",
       "      <td>0.612183</td>\n",
       "      <td>6.007609</td>\n",
       "      <td>-1.682465</td>\n",
       "      <td>NaN</td>\n",
       "      <td>19.892836</td>\n",
       "      <td>0.797163</td>\n",
       "      <td>1.052974</td>\n",
       "      <td>NaN</td>\n",
       "      <td>-3531.587123</td>\n",
       "      <td>-1227.599231</td>\n",
       "      <td>-986.181107</td>\n",
       "    </tr>\n",
       "    <tr>\n",
       "      <th>1</th>\n",
       "      <td>2589921285861653504</td>\n",
       "      <td>19.342312</td>\n",
       "      <td>13.513704</td>\n",
       "      <td>0.519995</td>\n",
       "      <td>-0.297618</td>\n",
       "      <td>-3.826293</td>\n",
       "      <td>NaN</td>\n",
       "      <td>20.455091</td>\n",
       "      <td>1.281441</td>\n",
       "      <td>0.848411</td>\n",
       "      <td>NaN</td>\n",
       "      <td>-3258.078086</td>\n",
       "      <td>-1148.903016</td>\n",
       "      <td>-928.660443</td>\n",
       "    </tr>\n",
       "    <tr>\n",
       "      <th>2</th>\n",
       "      <td>2589921285864295296</td>\n",
       "      <td>19.349404</td>\n",
       "      <td>13.518722</td>\n",
       "      <td>2.280791</td>\n",
       "      <td>32.097069</td>\n",
       "      <td>-10.499106</td>\n",
       "      <td>NaN</td>\n",
       "      <td>17.377747</td>\n",
       "      <td>NaN</td>\n",
       "      <td>1.084578</td>\n",
       "      <td>NaN</td>\n",
       "      <td>-4620.171692</td>\n",
       "      <td>-1626.975034</td>\n",
       "      <td>-1275.553081</td>\n",
       "    </tr>\n",
       "    <tr>\n",
       "      <th>3</th>\n",
       "      <td>2589921290157156608</td>\n",
       "      <td>19.349745</td>\n",
       "      <td>13.519019</td>\n",
       "      <td>2.326436</td>\n",
       "      <td>31.744654</td>\n",
       "      <td>-9.905183</td>\n",
       "      <td>-12.290409</td>\n",
       "      <td>14.385204</td>\n",
       "      <td>1.208128</td>\n",
       "      <td>1.065297</td>\n",
       "      <td>4802.717773</td>\n",
       "      <td>-4628.064484</td>\n",
       "      <td>-1629.744060</td>\n",
       "      <td>-1277.561801</td>\n",
       "    </tr>\n",
       "    <tr>\n",
       "      <th>4</th>\n",
       "      <td>2589921324516893824</td>\n",
       "      <td>19.359942</td>\n",
       "      <td>13.533631</td>\n",
       "      <td>4.109173</td>\n",
       "      <td>23.105724</td>\n",
       "      <td>-34.715580</td>\n",
       "      <td>-22.231688</td>\n",
       "      <td>14.817810</td>\n",
       "      <td>1.990927</td>\n",
       "      <td>1.386260</td>\n",
       "      <td>4723.560059</td>\n",
       "      <td>-4799.167229</td>\n",
       "      <td>-1689.785579</td>\n",
       "      <td>-1321.095491</td>\n",
       "    </tr>\n",
       "    <tr>\n",
       "      <th>...</th>\n",
       "      <td>...</td>\n",
       "      <td>...</td>\n",
       "      <td>...</td>\n",
       "      <td>...</td>\n",
       "      <td>...</td>\n",
       "      <td>...</td>\n",
       "      <td>...</td>\n",
       "      <td>...</td>\n",
       "      <td>...</td>\n",
       "      <td>...</td>\n",
       "      <td>...</td>\n",
       "      <td>...</td>\n",
       "      <td>...</td>\n",
       "      <td>...</td>\n",
       "    </tr>\n",
       "    <tr>\n",
       "      <th>7809</th>\n",
       "      <td>2591577017229619968</td>\n",
       "      <td>19.317684</td>\n",
       "      <td>15.503116</td>\n",
       "      <td>2.627290</td>\n",
       "      <td>-18.193341</td>\n",
       "      <td>-29.486313</td>\n",
       "      <td>12.722129</td>\n",
       "      <td>14.957713</td>\n",
       "      <td>1.517277</td>\n",
       "      <td>1.000411</td>\n",
       "      <td>4551.966797</td>\n",
       "      <td>-4676.266941</td>\n",
       "      <td>-1646.888836</td>\n",
       "      <td>-1276.308850</td>\n",
       "    </tr>\n",
       "    <tr>\n",
       "      <th>7810</th>\n",
       "      <td>2591577085948688256</td>\n",
       "      <td>19.358433</td>\n",
       "      <td>15.505021</td>\n",
       "      <td>7.535787</td>\n",
       "      <td>4.393724</td>\n",
       "      <td>-45.494592</td>\n",
       "      <td>NaN</td>\n",
       "      <td>16.644209</td>\n",
       "      <td>2.920009</td>\n",
       "      <td>1.056302</td>\n",
       "      <td>NaN</td>\n",
       "      <td>-4901.747758</td>\n",
       "      <td>-1725.832864</td>\n",
       "      <td>-1342.571399</td>\n",
       "    </tr>\n",
       "    <tr>\n",
       "      <th>7811</th>\n",
       "      <td>2591577085949096448</td>\n",
       "      <td>19.353562</td>\n",
       "      <td>15.508973</td>\n",
       "      <td>1.496992</td>\n",
       "      <td>-5.602044</td>\n",
       "      <td>-8.557281</td>\n",
       "      <td>1.454020</td>\n",
       "      <td>13.877809</td>\n",
       "      <td>0.935573</td>\n",
       "      <td>1.101941</td>\n",
       "      <td>5553.910156</td>\n",
       "      <td>-4415.079588</td>\n",
       "      <td>-1554.904702</td>\n",
       "      <td>-1199.427483</td>\n",
       "    </tr>\n",
       "    <tr>\n",
       "      <th>7812</th>\n",
       "      <td>2591577085949096832</td>\n",
       "      <td>19.358263</td>\n",
       "      <td>15.505410</td>\n",
       "      <td>7.935498</td>\n",
       "      <td>6.593368</td>\n",
       "      <td>-46.179403</td>\n",
       "      <td>NaN</td>\n",
       "      <td>17.545944</td>\n",
       "      <td>NaN</td>\n",
       "      <td>1.023436</td>\n",
       "      <td>NaN</td>\n",
       "      <td>-4907.824555</td>\n",
       "      <td>-1727.968269</td>\n",
       "      <td>-1344.357387</td>\n",
       "    </tr>\n",
       "    <tr>\n",
       "      <th>7813</th>\n",
       "      <td>2591577597049774464</td>\n",
       "      <td>19.428779</td>\n",
       "      <td>15.508636</td>\n",
       "      <td>0.301048</td>\n",
       "      <td>1.045736</td>\n",
       "      <td>-0.966718</td>\n",
       "      <td>NaN</td>\n",
       "      <td>17.797606</td>\n",
       "      <td>0.959604</td>\n",
       "      <td>1.023281</td>\n",
       "      <td>5202.873535</td>\n",
       "      <td>-2003.873034</td>\n",
       "      <td>-703.527261</td>\n",
       "      <td>-489.870074</td>\n",
       "    </tr>\n",
       "  </tbody>\n",
       "</table>\n",
       "<p>7814 rows × 14 columns</p>\n",
       "</div>"
      ],
      "text/plain": [
       "                SOURCE_ID         ra        dec  parallax       pmra  \\\n",
       "0     2590048691771704704  19.932513  13.880195  0.612183   6.007609   \n",
       "1     2589921285861653504  19.342312  13.513704  0.519995  -0.297618   \n",
       "2     2589921285864295296  19.349404  13.518722  2.280791  32.097069   \n",
       "3     2589921290157156608  19.349745  13.519019  2.326436  31.744654   \n",
       "4     2589921324516893824  19.359942  13.533631  4.109173  23.105724   \n",
       "...                   ...        ...        ...       ...        ...   \n",
       "7809  2591577017229619968  19.317684  15.503116  2.627290 -18.193341   \n",
       "7810  2591577085948688256  19.358433  15.505021  7.535787   4.393724   \n",
       "7811  2591577085949096448  19.353562  15.508973  1.496992  -5.602044   \n",
       "7812  2591577085949096832  19.358263  15.505410  7.935498   6.593368   \n",
       "7813  2591577597049774464  19.428779  15.508636  0.301048   1.045736   \n",
       "\n",
       "          pmdec  radial_velocity  phot_g_mean_mag     bp_rp      ruwe  \\\n",
       "0     -1.682465              NaN        19.892836  0.797163  1.052974   \n",
       "1     -3.826293              NaN        20.455091  1.281441  0.848411   \n",
       "2    -10.499106              NaN        17.377747       NaN  1.084578   \n",
       "3     -9.905183       -12.290409        14.385204  1.208128  1.065297   \n",
       "4    -34.715580       -22.231688        14.817810  1.990927  1.386260   \n",
       "...         ...              ...              ...       ...       ...   \n",
       "7809 -29.486313        12.722129        14.957713  1.517277  1.000411   \n",
       "7810 -45.494592              NaN        16.644209  2.920009  1.056302   \n",
       "7811  -8.557281         1.454020        13.877809  0.935573  1.101941   \n",
       "7812 -46.179403              NaN        17.545944       NaN  1.023436   \n",
       "7813  -0.966718              NaN        17.797606  0.959604  1.023281   \n",
       "\n",
       "      teff_gspphot            x            y            z  \n",
       "0              NaN -3531.587123 -1227.599231  -986.181107  \n",
       "1              NaN -3258.078086 -1148.903016  -928.660443  \n",
       "2              NaN -4620.171692 -1626.975034 -1275.553081  \n",
       "3      4802.717773 -4628.064484 -1629.744060 -1277.561801  \n",
       "4      4723.560059 -4799.167229 -1689.785579 -1321.095491  \n",
       "...            ...          ...          ...          ...  \n",
       "7809   4551.966797 -4676.266941 -1646.888836 -1276.308850  \n",
       "7810           NaN -4901.747758 -1725.832864 -1342.571399  \n",
       "7811   5553.910156 -4415.079588 -1554.904702 -1199.427483  \n",
       "7812           NaN -4907.824555 -1727.968269 -1344.357387  \n",
       "7813   5202.873535 -2003.873034  -703.527261  -489.870074  \n",
       "\n",
       "[7814 rows x 14 columns]"
      ]
     },
     "execution_count": 33,
     "metadata": {},
     "output_type": "execute_result"
    }
   ],
   "source": [
    "cols = [\n",
    "    'SOURCE_ID',\n",
    "    'ra',\n",
    "    'dec',\n",
    "    'parallax',\n",
    "    'pmra',\n",
    "    'pmdec',\n",
    "    'radial_velocity',\n",
    "    'phot_g_mean_mag',\n",
    "    'bp_rp',\n",
    "    'ruwe',\n",
    "    'teff_gspphot'\n",
    "]\n",
    "df = tab[cols].to_pandas()\n",
    "\n",
    "# add the 3D coordinates but center them on the expected cluster center\n",
    "df['x'] = (coords_3d.cartesian.x - coords_3d_center.cartesian.x).value\n",
    "df['y'] = (coords_3d.cartesian.y - coords_3d_center.cartesian.y).value\n",
    "df['z'] = (coords_3d.cartesian.z - coords_3d_center.cartesian.z).value\n",
    "\n",
    "df"
   ]
  },
  {
   "cell_type": "code",
   "execution_count": 34,
   "metadata": {},
   "outputs": [
    {
     "data": {
      "text/plain": [
       "2    7272\n",
       "0     530\n",
       "1      12\n",
       "Name: label, dtype: int64"
      ]
     },
     "execution_count": 34,
     "metadata": {},
     "output_type": "execute_result"
    }
   ],
   "source": [
    "clusterer = hdbscan.HDBSCAN(min_cluster_size=10) # there are many settings that you can tweak to improve this\n",
    "clusterer.fit(df[['ra','dec','parallax','pmra','pmdec']])\n",
    "df['label'] = clusterer.labels_ + 1 # so that I don't have a negative number below\n",
    "df['label'].value_counts()"
   ]
  },
  {
   "cell_type": "code",
   "execution_count": 35,
   "metadata": {},
   "outputs": [],
   "source": [
    "# create a list of (rgb) colors to attach to the labels, to show in matplotlib and firefly\n",
    "default_colors = plt.rcParams['axes.prop_cycle'].by_key()['color']\n",
    "rgb_colors = [mcolors.to_rgb(color) for color in default_colors]"
   ]
  },
  {
   "cell_type": "code",
   "execution_count": 36,
   "metadata": {},
   "outputs": [
    {
     "data": {
      "image/png": "[encoded data removed]",
      "text/plain": [
       "<Figure size 640x480 with 1 Axes>"
      ]
     },
     "metadata": {},
     "output_type": "display_data"
    }
   ],
   "source": [
    "# check the CMD\n",
    "f, ax = plt.subplots()\n",
    "ax.scatter(df['bp_rp'],df['phot_g_mean_mag'], s=1, color='gray')\n",
    "for i, lab in enumerate(df['label'].unique()):\n",
    "    use_df = df.loc[df['label'] == lab]\n",
    "    ax.scatter(use_df['bp_rp'],use_df['phot_g_mean_mag'], s=1, label=lab, color=rgb_colors[i])\n",
    "\n",
    "ax.legend()\n",
    "plt.gca().invert_yaxis()"
   ]
  },
  {
   "cell_type": "code",
   "execution_count": 37,
   "metadata": {},
   "outputs": [],
   "source": [
    "from firefly.data_reader import ParticleGroup, Reader"
   ]
  },
  {
   "cell_type": "code",
   "execution_count": 38,
   "metadata": {},
   "outputs": [
    {
     "name": "stdout",
     "output_type": "stream",
     "text": [
      "[0.17254901960784313, 0.6274509803921569, 0.17254901960784313, 1]\n"
     ]
    }
   ],
   "source": [
    "print(list(rgb_colors[i]) + [1])"
   ]
  },
  {
   "cell_type": "code",
   "execution_count": 39,
   "metadata": {},
   "outputs": [
    {
     "name": "stdout",
     "output_type": "stream",
     "text": [
      "datadir is None, defaulting to /opt/anaconda3/lib/python3.9/site-packages/firefly/static/data/Data\n",
      "2\n",
      "Make sure each field_array (9) has a field_filter_flag (0), assuming True.\n",
      "Make sure each field_array (9) has a field_colormap_flag (0), assuming True.\n",
      "Make sure each field_array (9) has a field_radius_flag (0), assuming False.\n",
      "0\n",
      "Make sure each field_array (9) has a field_filter_flag (0), assuming True.\n",
      "Make sure each field_array (9) has a field_colormap_flag (0), assuming True.\n",
      "Make sure each field_array (9) has a field_radius_flag (0), assuming False.\n",
      "1\n",
      "Make sure each field_array (9) has a field_filter_flag (0), assuming True.\n",
      "Make sure each field_array (9) has a field_colormap_flag (0), assuming True.\n",
      "Make sure each field_array (9) has a field_radius_flag (0), assuming False.\n"
     ]
    }
   ],
   "source": [
    "# create the Reader\n",
    "my_reader = Reader()\n",
    "\n",
    "# identify the columns we should send to firefly for coloring & filtering\n",
    "field_names = ['SOURCE_ID','parallax','pmra','pmdec','radial_velocity','phot_g_mean_mag','bp_rp','teff_gspphot','ruwe']\n",
    "\n",
    "# add all the particle groups (one per HDBSCAN cluster)\n",
    "for i,lab in enumerate(df['label'].unique()):\n",
    "    print(lab)\n",
    "    use_df = df.loc[df['label'] == lab]\n",
    "    coords = use_df[['x','y','z']].to_numpy()\n",
    "    fields = np.nan_to_num(use_df[field_names].to_numpy(), nan=-999).T\n",
    "    group = ParticleGroup(\n",
    "        'group' + str(lab),\n",
    "        coords,\n",
    "        field_arrays=fields, \n",
    "        field_names=field_names,\n",
    "        partsColors=list(rgb_colors[i]) + [1]\n",
    "    ) \n",
    "    my_reader.addParticleGroup(group)"
   ]
  },
  {
   "cell_type": "code",
   "execution_count": 40,
   "metadata": {},
   "outputs": [],
   "source": [
    "from firefly.server import spawnFireflyServer,quitAllFireflyServers"
   ]
  },
  {
   "cell_type": "code",
   "execution_count": 41,
   "metadata": {},
   "outputs": [],
   "source": [
    "# define the local port (typically anything in 5000 - 8000 range)\n",
    "port = 5500"
   ]
  },
  {
   "cell_type": "code",
   "execution_count": 42,
   "metadata": {},
   "outputs": [
    {
     "name": "stdout",
     "output_type": "stream",
     "text": [
      "Waiting up to 10 seconds for background Firefly server to start...done! Your server is available at - http://localhost:5500\n"
     ]
    },
    {
     "name": "stdout",
     "output_type": "stream",
     "text": [
      "Intel MKL WARNING: Support of Intel(R) Streaming SIMD Extensions 4.2 (Intel(R) SSE4.2) enabled only processors has been deprecated. Intel oneAPI Math Kernel Library 2025.0 will require Intel(R) Advanced Vector Extensions (Intel(R) AVX) instructions.\n",
      "Intel MKL WARNING: Support of Intel(R) Streaming SIMD Extensions 4.2 (Intel(R) SSE4.2) enabled only processors has been deprecated. Intel oneAPI Math Kernel Library 2025.0 will require Intel(R) Advanced Vector Extensions (Intel(R) AVX) instructions.\n",
      "Launching Firefly at: http://localhost:5500\n",
      "from directory /opt/anaconda3/lib/python3.9/site-packages/firefly\n"
     ]
    },
    {
     "name": "stderr",
     "output_type": "stream",
     "text": [
      " * Restarting with watchdog (fsevents)\n"
     ]
    },
    {
     "name": "stdout",
     "output_type": "stream",
     "text": [
      "Intel MKL WARNING: Support of Intel(R) Streaming SIMD Extensions 4.2 (Intel(R) SSE4.2) enabled only processors has been deprecated. Intel oneAPI Math Kernel Library 2025.0 will require Intel(R) Advanced Vector Extensions (Intel(R) AVX) instructions.\n",
      "Intel MKL WARNING: Support of Intel(R) Streaming SIMD Extensions 4.2 (Intel(R) SSE4.2) enabled only processors has been deprecated. Intel oneAPI Math Kernel Library 2025.0 will require Intel(R) Advanced Vector Extensions (Intel(R) AVX) instructions.\n",
      "Launching Firefly at: http://localhost:5500\n",
      "from directory /opt/anaconda3/lib/python3.9/site-packages/firefly\n"
     ]
    }
   ],
   "source": [
    "process = spawnFireflyServer(port, method = 'flask')"
   ]
  },
  {
   "cell_type": "code",
   "execution_count": 43,
   "metadata": {},
   "outputs": [
    {
     "data": {
      "text/html": [
       "\n",
       "        <iframe\n",
       "            width=\"1000\"\n",
       "            height=\"500\"\n",
       "            src=\"http://localhost:5500/combined\"\n",
       "            frameborder=\"0\"\n",
       "            allowfullscreen\n",
       "            \n",
       "        ></iframe>\n",
       "        "
      ],
      "text/plain": [
       "<IPython.lib.display.IFrame at 0x7f8d53a0c9d0>"
      ]
     },
     "execution_count": 43,
     "metadata": {},
     "output_type": "execute_result"
    }
   ],
   "source": [
    "from IPython.display import IFrame\n",
    "url = f'http://localhost:{port:d}/combined'\n",
    "IFrame(url, width=1000, height=500)"
   ]
  },
  {
   "cell_type": "code",
   "execution_count": 44,
   "metadata": {},
   "outputs": [
    {
     "name": "stdout",
     "output_type": "stream",
     "text": [
      "group2 - 7272/7272 particles - 9 tracked fields\n",
      "group0 - 530/530 particles - 9 tracked fields\n",
      "group1 - 12/12 particles - 9 tracked fields\n",
      "Posting data on port 5500...data posted!\n"
     ]
    }
   ],
   "source": [
    "# Send data to the server.\n",
    "# Wait until it loads to run this command\n",
    "my_reader.sendDataViaFlask()"
   ]
  },
  {
   "cell_type": "code",
   "execution_count": 45,
   "metadata": {},
   "outputs": [],
   "source": [
    "import requests"
   ]
  },
  {
   "cell_type": "code",
   "execution_count": 51,
   "metadata": {},
   "outputs": [
    {
     "name": "stdout",
     "output_type": "stream",
     "text": [
      "Error: 504 b'Timeout.  Please increase the waitTime using the params keyword'\n"
     ]
    }
   ],
   "source": [
    "# send a get request to receive the current settings from Firefly\n",
    "# for larger amounts of data, you will need to increase the waitTime (in seconds) via params (see below; the default is 10s)\n",
    "r = requests.get(url = f'http://localhost:{port:d}/get_selected_data', params = {'waitTime':60})\n",
    "if r.status_code == 200:\n",
    "    # success\n",
    "    selection = r.json()\n",
    "    # as a check\n",
    "    partsKeys = list(selection.keys())\n",
    "    print(partsKeys)\n",
    "    print(selection[partsKeys[0]]['Coordinates_flat'][:100]) \n",
    "else:\n",
    "    print('Error: {}'.format(r.status_code), r.content)\n"
   ]
  },
  {
   "cell_type": "code",
   "execution_count": 52,
   "metadata": {},
   "outputs": [
    {
     "ename": "NameError",
     "evalue": "name 'selection' is not defined",
     "output_type": "error",
     "traceback": [
      "\u001b[0;31m---------------------------------------------------------------------------\u001b[0m",
      "\u001b[0;31mNameError\u001b[0m                                 Traceback (most recent call last)",
      "Cell \u001b[0;32mIn[52], line 1\u001b[0m\n\u001b[0;32m----> 1\u001b[0m part4 \u001b[38;5;241m=\u001b[39m \u001b[43mselection\u001b[49m[\u001b[38;5;124m'\u001b[39m\u001b[38;5;124mgroup2\u001b[39m\u001b[38;5;124m'\u001b[39m]\n\u001b[1;32m      2\u001b[0m part4\u001b[38;5;241m.\u001b[39mkeys()\n",
      "\u001b[0;31mNameError\u001b[0m: name 'selection' is not defined"
     ]
    }
   ],
   "source": [
    "part4 = selection['group2']\n",
    "part4.keys()"
   ]
  },
  {
   "cell_type": "code",
   "execution_count": 48,
   "metadata": {},
   "outputs": [
    {
     "ename": "NameError",
     "evalue": "name 'part4' is not defined",
     "output_type": "error",
     "traceback": [
      "\u001b[0;31m---------------------------------------------------------------------------\u001b[0m",
      "\u001b[0;31mNameError\u001b[0m                                 Traceback (most recent call last)",
      "Cell \u001b[0;32mIn[48], line 11\u001b[0m\n\u001b[1;32m      8\u001b[0m ax\u001b[38;5;241m.\u001b[39mscatter(use_df[\u001b[38;5;124m'\u001b[39m\u001b[38;5;124mbp_rp\u001b[39m\u001b[38;5;124m'\u001b[39m],use_df[\u001b[38;5;124m'\u001b[39m\u001b[38;5;124mphot_g_mean_mag\u001b[39m\u001b[38;5;124m'\u001b[39m], s\u001b[38;5;241m=\u001b[39m\u001b[38;5;241m1\u001b[39m, color\u001b[38;5;241m=\u001b[39mrgb_colors[\u001b[38;5;241m2\u001b[39m], label\u001b[38;5;241m=\u001b[39m\u001b[38;5;124m'\u001b[39m\u001b[38;5;124morg\u001b[39m\u001b[38;5;124m'\u001b[39m)\n\u001b[1;32m     10\u001b[0m \u001b[38;5;66;03m# selection\u001b[39;00m\n\u001b[0;32m---> 11\u001b[0m ax\u001b[38;5;241m.\u001b[39mscatter(\u001b[43mpart4\u001b[49m[\u001b[38;5;124m'\u001b[39m\u001b[38;5;124mbp_rp\u001b[39m\u001b[38;5;124m'\u001b[39m],part4[\u001b[38;5;124m'\u001b[39m\u001b[38;5;124mphot_g_mean_mag\u001b[39m\u001b[38;5;124m'\u001b[39m], s\u001b[38;5;241m=\u001b[39m\u001b[38;5;241m5\u001b[39m, color\u001b[38;5;241m=\u001b[39m\u001b[38;5;124m'\u001b[39m\u001b[38;5;124mblack\u001b[39m\u001b[38;5;124m'\u001b[39m, label\u001b[38;5;241m=\u001b[39m\u001b[38;5;124m'\u001b[39m\u001b[38;5;124mselected\u001b[39m\u001b[38;5;124m'\u001b[39m)\n\u001b[1;32m     13\u001b[0m ax\u001b[38;5;241m.\u001b[39mlegend()\n\u001b[1;32m     14\u001b[0m plt\u001b[38;5;241m.\u001b[39mgca()\u001b[38;5;241m.\u001b[39minvert_yaxis()\n",
      "\u001b[0;31mNameError\u001b[0m: name 'part4' is not defined"
     ]
    },
    {
     "data": {
      "image/png": "[encoded data removed]",
      "text/plain": [
       "<Figure size 640x480 with 1 Axes>"
      ]
     },
     "metadata": {},
     "output_type": "display_data"
    }
   ],
   "source": [
    "f,ax = plt.subplots()\n",
    "\n",
    "# all\n",
    "ax.scatter(df['bp_rp'],df['phot_g_mean_mag'], s=1,color='gray', label='all')\n",
    "\n",
    "# original\n",
    "use_df = df.loc[df['label'] == 4]\n",
    "ax.scatter(use_df['bp_rp'],use_df['phot_g_mean_mag'], s=1, color=rgb_colors[2], label='org')\n",
    "\n",
    "# selection\n",
    "ax.scatter(part4['bp_rp'],part4['phot_g_mean_mag'], s=5, color='black', label='selected')\n",
    "\n",
    "ax.legend()\n",
    "plt.gca().invert_yaxis()"
   ]
  },
  {
   "cell_type": "code",
   "execution_count": null,
   "metadata": {},
   "outputs": [],
   "source": [
    "return_code = quitAllFireflyServers()"
   ]
  }
 ],
 "metadata": {
  "kernelspec": {
   "display_name": "base",
   "language": "python",
   "name": "python3"
  },
  "language_info": {
   "codemirror_mode": {
    "name": "ipython",
    "version": 3
   },
   "file_extension": ".py",
   "mimetype": "text/x-python",
   "name": "python",
   "nbconvert_exporter": "python",
   "pygments_lexer": "ipython3",
   "version": "3.9.16"
  }
 },
 "nbformat": 4,
 "nbformat_minor": 2
}
