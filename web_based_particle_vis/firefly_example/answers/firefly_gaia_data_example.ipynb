{
 "cells": [
  {
   "cell_type": "markdown",
   "id": "0ea7bcf5-2a0f-4f16-a2a5-d628d7b159f7",
   "metadata": {},
   "source": [
    "# Aaron's (minimal) example of using Firefly with Gaia data\n"
   ]
  },
  {
   "cell_type": "markdown",
   "id": "b73418a7",
   "metadata": {},
   "source": [
    "## Download the Gaia data "
   ]
  },
  {
   "cell_type": "code",
   "execution_count": 1,
   "id": "0bb698e7-3808-42d8-976e-571c7d383849",
   "metadata": {},
   "outputs": [],
   "source": [
    "import numpy as np\n",
    "\n",
    "import hdbscan\n",
    "\n",
    "from astroquery.gaia import Gaia\n",
    "\n",
    "from astropy import units as u\n",
    "from astropy.coordinates import SkyCoord, Distance\n",
    "from astropy.table import Table\n",
    "\n",
    "import matplotlib.pyplot as plt\n",
    "import matplotlib.colors as mcolors\n",
    "%matplotlib inline"
   ]
  },
  {
   "cell_type": "markdown",
   "id": "57f46c00",
   "metadata": {},
   "source": [
    "Retrieve all the available data in the region of interest.\n",
    "\n",
    "I will download data in the direction of the open cluster M67 (coordinates: RA = 132.825 deg, +11.8167) with a search radius of 1 degrees.\n",
    "\n",
    "I will perform an asynchronous query (asynchronous rather than synchronous queries should be performed when retrieving more than 2000 rows), and also require that the parallax and proper motion data to be well behaved (to remove likely spurious data).\n",
    "\n",
    "Note: The query to the archive is with ADQL (Astronomical Data Query Language). For a description of ADQL and more examples see the Gaia DR1 ADQL cookbook: https://gaia.ac.uk/data/gaia-data-release-1/adql-cookbook"
   ]
  },
  {
   "cell_type": "code",
   "execution_count": null,
   "id": "0ac428d3-34a1-4acb-806b-fe4249e3f937",
   "metadata": {},
   "outputs": [],
   "source": [
    "cmd = \"SELECT * FROM gaiadr3.gaia_source \\\n",
    "    WHERE CONTAINS(POINT('ICRS',gaiadr3.gaia_source.ra, gaiadr3.gaia_source.dec),\\\n",
    "    CIRCLE('ICRS', 132.825, 11.8167, 1))=1\\\n",
    "    AND parallax>0 \\\n",
    "    AND abs(pmra_error)<5 \\\n",
    "    AND abs(pmdec_error)<5 \\\n",
    "    AND pmra IS NOT NULL AND abs(pmra)>0 \\\n",
    "    AND pmdec IS NOT NULL AND abs(pmdec)>0;\"\n",
    "\n",
    "job = Gaia.launch_job_async(cmd, dump_to_file=False) #could save this to a file\n",
    "\n",
    "print (job)"
   ]
  },
  {
   "cell_type": "markdown",
   "id": "4da263ba",
   "metadata": {},
   "source": [
    "This downloads as an astropy table.  Save this to an [ecsv](https://docs.astropy.org/en/stable/io/ascii/ecsv.html) file (to retain the units and masks).  That way I can reuse this data later without having to download from Gaia"
   ]
  },
  {
   "cell_type": "code",
   "execution_count": 24,
   "id": "044e5453",
   "metadata": {},
   "outputs": [],
   "source": [
    "tab = job.get_results()\n",
    "tab.write('Gaia_m67.ecsv', overwrite=True)"
   ]
  },
  {
   "cell_type": "code",
   "execution_count": 2,
   "id": "f3e698a1",
   "metadata": {},
   "outputs": [],
   "source": [
    "# to read the data back in\n",
    "tab = Table.read('Gaia_m67.ecsv')"
   ]
  },
  {
   "cell_type": "markdown",
   "id": "c36faab0",
   "metadata": {},
   "source": [
    "Calculate 3D coordinates"
   ]
  },
  {
   "cell_type": "code",
   "execution_count": null,
   "id": "981b8937",
   "metadata": {},
   "outputs": [],
   "source": [
    "coords_3d = SkyCoord(\n",
    "    ra=tab['ra'], \n",
    "    dec=tab['dec'],\n",
    "    distance=Distance(parallax=tab['parallax'])\n",
    ")\n",
    "coords_3d.cartesian"
   ]
  },
  {
   "cell_type": "markdown",
   "id": "bb628f34",
   "metadata": {},
   "source": [
    "Do the same for the expected cluster center (from literature/internet)"
   ]
  },
  {
   "cell_type": "code",
   "execution_count": 4,
   "id": "bd2b6818",
   "metadata": {},
   "outputs": [],
   "source": [
    "coords_3d_center = SkyCoord(\n",
    "    ra=132.825*u.deg, \n",
    "    dec=11.8167*u.deg,\n",
    "    distance=900*u.parsec\n",
    ")"
   ]
  },
  {
   "cell_type": "markdown",
   "id": "3644e75d",
   "metadata": {},
   "source": [
    "I prefer pandas (and so does Firefly), though note that this will remove the units.  Let's also simply things to only continue with the columns we're interested in."
   ]
  },
  {
   "cell_type": "code",
   "execution_count": null,
   "id": "f9ccfa31",
   "metadata": {},
   "outputs": [],
   "source": [
    "# look at all the column names\n",
    "list(tab.columns)"
   ]
  },
  {
   "cell_type": "code",
   "execution_count": null,
   "id": "34c9dee1",
   "metadata": {},
   "outputs": [],
   "source": [
    "cols = [\n",
    "    'SOURCE_ID',\n",
    "    'ra',\n",
    "    'dec',\n",
    "    'parallax',\n",
    "    'pmra',\n",
    "    'pmdec',\n",
    "    'radial_velocity',\n",
    "    'phot_g_mean_mag',\n",
    "    'bp_rp',\n",
    "    'ruwe',\n",
    "    'teff_gspphot'\n",
    "]\n",
    "df = tab[cols].to_pandas()\n",
    "\n",
    "# add the 3D coordinates but center them on the expected cluster center\n",
    "df['x'] = coords_3d.cartesian.x - coords_3d_center.cartesian.x\n",
    "df['y'] = coords_3d.cartesian.y - coords_3d_center.cartesian.y\n",
    "df['z'] = coords_3d.cartesian.z - coords_3d_center.cartesian.z\n",
    "\n",
    "df"
   ]
  },
  {
   "cell_type": "markdown",
   "id": "3dad0be0",
   "metadata": {},
   "source": [
    "Use [HDBSCAN](https://hdbscan.readthedocs.io/en/latest/) to identify clusters in these data (hopefully one is M67).  We will cluster on ra, dec, parallax, pmra, pmdec."
   ]
  },
  {
   "cell_type": "code",
   "execution_count": null,
   "id": "4dfa6780",
   "metadata": {},
   "outputs": [],
   "source": [
    "clusterer = hdbscan.HDBSCAN(min_cluster_size=10) # there are many settings that you can tweak to improve this\n",
    "clusterer.fit(df[['ra','dec','parallax','pmra','pmdec']])\n",
    "df['label'] = clusterer.labels_ + 1 # so that I don't have a negative number below\n",
    "df['label'].value_counts()"
   ]
  },
  {
   "cell_type": "code",
   "execution_count": 8,
   "id": "fd5d150d",
   "metadata": {},
   "outputs": [],
   "source": [
    "# create a list of (rgb) colors to attach to the labels, to show in matplotlib and firefly\n",
    "default_colors = plt.rcParams['axes.prop_cycle'].by_key()['color']\n",
    "rgb_colors = [mcolors.to_rgb(color) for color in default_colors]\n"
   ]
  },
  {
   "cell_type": "code",
   "execution_count": null,
   "id": "ef97a0b8",
   "metadata": {},
   "outputs": [],
   "source": [
    "# check the CMD\n",
    "f, ax = plt.subplots()\n",
    "ax.scatter(df['bp_rp'],df['phot_g_mean_mag'], s=1, color='gray')\n",
    "for i, lab in enumerate(df['label'].unique()):\n",
    "    use_df = df.loc[df['label'] == lab]\n",
    "    ax.scatter(use_df['bp_rp'],use_df['phot_g_mean_mag'], s=1, label=lab, color=rgb_colors[i])\n",
    "\n",
    "ax.legend()\n",
    "plt.gca().invert_yaxis()"
   ]
  },
  {
   "cell_type": "markdown",
   "id": "34ecbc6c-a09f-4017-9c0e-5768cd91276a",
   "metadata": {},
   "source": [
    "## Format Data for Firefly"
   ]
  },
  {
   "cell_type": "markdown",
   "id": "fd67a451",
   "metadata": {},
   "source": [
    "Here are the docs for [Reader](https://firefly.rcs.northwestern.edu/docs/reference/api/classes/firefly.data_reader.Reader.html#firefly.data_reader.Reader) and [ParticleGroup](https://firefly.rcs.northwestern.edu/docs/reference/api/classes/firefly.data_reader.ParticleGroup.html#firefly.data_reader.ParticleGroup) and also [a tutorial for using these](https://firefly.rcs.northwestern.edu/docs/data_reader/reader_tutorial.html). "
   ]
  },
  {
   "cell_type": "code",
   "execution_count": 10,
   "id": "2154b107-f405-443c-b607-737c78e37dfb",
   "metadata": {},
   "outputs": [],
   "source": [
    "from firefly.data_reader import ParticleGroup, Reader, Settings"
   ]
  },
  {
   "cell_type": "markdown",
   "id": "b126dbde",
   "metadata": {},
   "source": [
    "There are lots of Firefly [settings](https://firefly.rcs.northwestern.edu/docs/reference/api/classes/firefly.data_reader.Settings.html) that we can change. [Here's a tutorial](https://github.com/ageller/Firefly/blob/main/src/firefly/ntbks/settings_tutorial.ipynb) on how to manipulate these.  Here, I want to allow Firefly to have larger point sizes (there is a limit imposed so that we don't overload your computer... so use this with caution)."
   ]
  },
  {
   "cell_type": "code",
   "execution_count": null,
   "id": "3324878d",
   "metadata": {},
   "outputs": [],
   "source": [
    "# get the default settings\n",
    "settings = Settings()\n",
    "\n",
    "# change any that you want (I will change the max point scale)\n",
    "settings['maxPointScale'] = 50\n",
    "\n",
    "# print out all the possible keys and their values\n",
    "settings.printKeys()"
   ]
  },
  {
   "cell_type": "code",
   "execution_count": null,
   "id": "aa57cce0",
   "metadata": {},
   "outputs": [],
   "source": [
    "# create the Reader, and add the settings\n",
    "my_reader = Reader(settings=settings)\n",
    "\n",
    "# identify the columns we should send to firefly for coloring & filtering\n",
    "field_names = ['SOURCE_ID','parallax','pmra','pmdec','radial_velocity','phot_g_mean_mag','bp_rp','teff_gspphot','ruwe']\n",
    "\n",
    "# add all the particle groups (one per HDBSCAN cluster)\n",
    "for i,lab in enumerate(df['label'].unique()):\n",
    "    print(lab)\n",
    "    use_df = df.loc[df['label'] == lab]\n",
    "    coords = use_df[['x','y','z']].to_numpy()\n",
    "    fields = np.nan_to_num(use_df[field_names].to_numpy(), nan=-999).T\n",
    "    group = ParticleGroup(\n",
    "        'group' + str(lab),\n",
    "        coords,\n",
    "        field_arrays=fields, \n",
    "        field_names=field_names,\n",
    "        partsColors=list(rgb_colors[i]) + [1],\n",
    "    ) \n",
    "    my_reader.addParticleGroup(group)\n",
    "        "
   ]
  },
  {
   "cell_type": "markdown",
   "id": "dabdb04f-71ad-4b1c-9c73-211300a75fef",
   "metadata": {},
   "source": [
    "## Display Inline"
   ]
  },
  {
   "cell_type": "code",
   "execution_count": 14,
   "id": "cf3fd1b8-f568-4558-b8f3-4c6751d4f32b",
   "metadata": {},
   "outputs": [],
   "source": [
    "from firefly.server import spawnFireflyServer,quitAllFireflyServers"
   ]
  },
  {
   "cell_type": "code",
   "execution_count": 15,
   "id": "9b1f007c",
   "metadata": {},
   "outputs": [],
   "source": [
    "# define the local port (typically anything in 5000 - 8000 range)\n",
    "port = 5500"
   ]
  },
  {
   "cell_type": "code",
   "execution_count": null,
   "id": "6e2fa016-019c-482a-a039-114816ecee37",
   "metadata": {},
   "outputs": [],
   "source": [
    "process = spawnFireflyServer(port, method = 'flask')"
   ]
  },
  {
   "cell_type": "code",
   "execution_count": null,
   "id": "0493ceed-85af-4e50-a6b4-95801a4e37ec",
   "metadata": {},
   "outputs": [],
   "source": [
    "from IPython.display import IFrame\n",
    "url = f'http://localhost:{port:d}/combined'\n",
    "IFrame(url, width=1000, height=500)"
   ]
  },
  {
   "cell_type": "code",
   "execution_count": null,
   "id": "2261db30-3211-482a-adbc-a3f2983199fd",
   "metadata": {
    "tags": []
   },
   "outputs": [],
   "source": [
    "# Send data to the server.\n",
    "# Wait until it loads to run this command\n",
    "my_reader.sendDataViaFlask()"
   ]
  },
  {
   "cell_type": "markdown",
   "id": "58b2b46c",
   "metadata": {},
   "source": [
    "## Get the selected data in Python\n",
    "\n",
    "(after using the selection tool)"
   ]
  },
  {
   "cell_type": "code",
   "execution_count": 22,
   "id": "de937d06",
   "metadata": {},
   "outputs": [],
   "source": [
    "import requests"
   ]
  },
  {
   "cell_type": "code",
   "execution_count": null,
   "id": "d0883299",
   "metadata": {},
   "outputs": [],
   "source": [
    "# send a get request to receive the current settings from Firefly\n",
    "# for larger amounts of data, you will need to increase the waitTime (in seconds) via params (see below; the default is 10s)\n",
    "r = requests.get(url = f'http://localhost:{port:d}/get_selected_data', params = {'waitTime':60})\n",
    "if r.status_code == 200:\n",
    "    # success\n",
    "    selection = r.json()\n",
    "    # as a check\n",
    "    partsKeys = list(selection.keys())\n",
    "    print(partsKeys)\n",
    "    print(selection[partsKeys[0]]['Coordinates_flat'][:100]) \n",
    "else:\n",
    "    print('Error: {}'.format(r.status_code), r.content)\n"
   ]
  },
  {
   "cell_type": "code",
   "execution_count": null,
   "id": "86eabd5e",
   "metadata": {},
   "outputs": [],
   "source": [
    "part4 = selection['group4']\n",
    "part4.keys()"
   ]
  },
  {
   "cell_type": "code",
   "execution_count": null,
   "id": "699b8e80",
   "metadata": {},
   "outputs": [],
   "source": [
    "f,ax = plt.subplots()\n",
    "\n",
    "# all\n",
    "ax.scatter(df['bp_rp'],df['phot_g_mean_mag'], s=1,color='gray', label='all')\n",
    "\n",
    "# original\n",
    "use_df = df.loc[df['label'] == 4]\n",
    "ax.scatter(use_df['bp_rp'],use_df['phot_g_mean_mag'], s=1, color=rgb_colors[2], label='org')\n",
    "\n",
    "# selection\n",
    "ax.scatter(part4['bp_rp'],part4['phot_g_mean_mag'], s=5, color='black', label='selected')\n",
    "\n",
    "ax.legend()\n",
    "plt.gca().invert_yaxis()"
   ]
  },
  {
   "cell_type": "markdown",
   "id": "e7a2716d",
   "metadata": {},
   "source": [
    "### Quit the Firefly server\n",
    "\n",
    "... this doesn't always work in a notebook ... you can also quit the server by resetting the kernel."
   ]
  },
  {
   "cell_type": "code",
   "execution_count": null,
   "id": "83c11899-5ca2-4a58-91e1-6818988f3603",
   "metadata": {},
   "outputs": [],
   "source": [
    "return_code = quitAllFireflyServers()"
   ]
  }
 ],
 "metadata": {
  "kernelspec": {
   "display_name": "Python 3",
   "language": "python",
   "name": "python3"
  },
  "language_info": {
   "codemirror_mode": {
    "name": "ipython",
    "version": 3
   },
   "file_extension": ".py",
   "mimetype": "text/x-python",
   "name": "python",
   "nbconvert_exporter": "python",
   "pygments_lexer": "ipython3",
   "version": "3.11.10"
  }
 },
 "nbformat": 4,
 "nbformat_minor": 5
}
